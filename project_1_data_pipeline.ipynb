{
 "cells": [
  {
   "cell_type": "code",
   "execution_count": null,
   "id": "3f597109",
   "metadata": {
    "vscode": {
     "languageId": "plaintext"
    }
   },
   "outputs": [],
   "source": [
    "This notebook runs the full ingestion→cleaning→storage pipeline via our `ingest.py` script, then reads the merged data and produces key exploratory charts:\n",
    "\n",
    "1. Price history  \n",
    "2. Return distributions  \n",
    "3. Return correlation heatmap  \n",
    "4. Drawdown curve  "
   ]
  },
  {
   "cell_type": "code",
   "execution_count": null,
   "id": "3a77afec",
   "metadata": {
    "vscode": {
     "languageId": "plaintext"
    }
   },
   "outputs": [],
   "source": [
    "# Run the end‐to‐end pipeline\n",
    "!python ingest.py \\\n",
    "  --symbols symbols.txt \\\n",
    "  --out-clean data/clean \\\n",
    "  --out-merged data/prices.parquet \\\n",
    "  --start 2015-01-01\n"
   ]
  },
  {
   "cell_type": "code",
   "execution_count": null,
   "id": "3af3348a",
   "metadata": {
    "vscode": {
     "languageId": "plaintext"
    }
   },
   "outputs": [],
   "source": [
    "import pandas as pd\n",
    "\n",
    "# Read in the merged price table\n",
    "prices = pd.read_parquet(\"data/prices.parquet\")\n",
    "\n",
    "# Quick sanity check\n",
    "print(\"Shape:\", prices.shape)\n",
    "prices.head()\n"
   ]
  },
  {
   "cell_type": "code",
   "execution_count": null,
   "id": "a37f46d6",
   "metadata": {
    "vscode": {
     "languageId": "plaintext"
    }
   },
   "outputs": [],
   "source": [
    "import matplotlib.pyplot as plt\n",
    "\n",
    "plt.figure(figsize=(12,6))\n",
    "for sym in prices.columns:\n",
    "    plt.plot(prices.index, prices[sym], label=sym)\n",
    "plt.title(\"Price History\")\n",
    "plt.legend(loc=\"upper left\")\n",
    "plt.show()\n"
   ]
  },
  {
   "cell_type": "code",
   "execution_count": null,
   "id": "9408ad57",
   "metadata": {
    "vscode": {
     "languageId": "plaintext"
    }
   },
   "outputs": [],
   "source": [
    "returns = prices.pct_change().dropna()\n",
    "\n",
    "import seaborn as sns\n",
    "\n",
    "for sym in prices.columns:\n",
    "    plt.figure(figsize=(6,4))\n",
    "    sns.histplot(returns[sym], bins=50, kde=False)\n",
    "    plt.title(f\"{sym} Daily Return Distribution\")\n",
    "    plt.xlabel(\"Return\")\n",
    "    plt.show()\n"
   ]
  },
  {
   "cell_type": "code",
   "execution_count": null,
   "id": "0ddb07bb",
   "metadata": {
    "vscode": {
     "languageId": "plaintext"
    }
   },
   "outputs": [],
   "source": [
    "corr = returns.corr()\n",
    "\n",
    "plt.figure(figsize=(8,6))\n",
    "sns.heatmap(corr, annot=True, fmt=\".2f\", cmap=\"vlag\")\n",
    "plt.title(\"Return Correlation Heatmap\")\n",
    "plt.show()\n"
   ]
  },
  {
   "cell_type": "code",
   "execution_count": null,
   "id": "6bc906cf",
   "metadata": {
    "vscode": {
     "languageId": "plaintext"
    }
   },
   "outputs": [],
   "source": [
    "# Example: drawdown for the first symbol\n",
    "sym0 = prices.columns[0]\n",
    "cum = (1 + returns[sym0]).cumprod()\n",
    "drawdown = cum / cum.cummax() - 1\n",
    "\n",
    "plt.figure(figsize=(10,4))\n",
    "plt.plot(drawdown.index, drawdown, label=sym0)\n",
    "plt.title(f\"{sym0} Drawdown Curve\")\n",
    "plt.ylabel(\"Drawdown\")\n",
    "plt.show()\n"
   ]
  }
 ],
 "metadata": {
  "language_info": {
   "name": "python"
  }
 },
 "nbformat": 4,
 "nbformat_minor": 5
}
